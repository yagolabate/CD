{
 "cells": [
  {
   "cell_type": "markdown",
   "metadata": {},
   "source": [
    "# MINIPROJETO 2"
   ]
  },
  {
   "cell_type": "markdown",
   "metadata": {},
   "source": [
    "## <font color='red'>Bruno Porto, Felipe Giorgi e Yago Ribeiro Labate</font>\n",
    "___"
   ]
  },
  {
   "cell_type": "markdown",
   "metadata": {},
   "source": [
    "## <font color='blue'>Tempo de espera da fila do McDonald's</font>"
   ]
  },
  {
   "cell_type": "markdown",
   "metadata": {},
   "source": [
    "### Item 1"
   ]
  },
  {
   "cell_type": "markdown",
   "metadata": {},
   "source": [
    "A variável escolhida será modelada por uma distribuição exponencial"
   ]
  },
  {
   "cell_type": "markdown",
   "metadata": {},
   "source": [
    "** Valores: **\n",
    "    - Média = 5"
   ]
  },
  {
   "cell_type": "code",
   "execution_count": 1,
   "metadata": {
    "collapsed": false
   },
   "outputs": [],
   "source": [
    "%matplotlib inline\n",
    "import pandas as pd\n",
    "import matplotlib.pyplot as plt\n",
    "import numpy as np\n",
    "import os\n",
    "from scipy import stats\n",
    "import math\n",
    "from astropy.table import Table, Column"
   ]
  },
  {
   "cell_type": "code",
   "execution_count": 41,
   "metadata": {
    "collapsed": false
   },
   "outputs": [
    {
     "data": {
      "text/plain": [
       "(array([  1.09457861e-01,   2.79746279e-02,   7.40301123e-03,\n",
       "          1.90417888e-03,   4.96678237e-04,   1.03167586e-04,\n",
       "          3.97932119e-05,   0.00000000e+00,   1.47382266e-06,\n",
       "          1.47382266e-06]),\n",
       " array([  1.00000588,   7.78508272,  14.57015955,  21.35523638,\n",
       "         28.14031322,  34.92539005,  41.71046688,  48.49554372,\n",
       "         55.28062055,  62.06569738,  68.85077422]),\n",
       " <a list of 10 Patch objects>)"
      ]
     },
     "execution_count": 41,
     "metadata": {},
     "output_type": "execute_result"
    },
    {
     "data": {
      "image/png": "[encoded data removed]",
      "text/plain": [
       "<matplotlib.figure.Figure at 0x265afd485c0>"
      ]
     },
     "metadata": {},
     "output_type": "display_data"
    }
   ],
   "source": [
    "# Gerando valores aleatórios\n",
    "\n",
    "ValoresAleatorios = stats.expon.rvs(1,5,size=100000)\n",
    "plt.hist(ValoresAleatorios, normed = True)"
   ]
  },
  {
   "cell_type": "code",
   "execution_count": 49,
   "metadata": {
    "collapsed": false
   },
   "outputs": [
    {
     "name": "stdout",
     "output_type": "stream",
     "text": [
      "A média é 6.00737086271 e a variancia é 24.9656612807\n"
     ]
    }
   ],
   "source": [
    "# Média e variancia\n",
    "\n",
    "media = ValoresAleatorios.mean()\n",
    "var = ValoresAleatorios.var()\n",
    "\n",
    "print('A média é', media,'e a variancia é',var)\n"
   ]
  },
  {
   "cell_type": "markdown",
   "metadata": {},
   "source": [
    "### Item  2"
   ]
  },
  {
   "cell_type": "markdown",
   "metadata": {},
   "source": [
    "Agora serão feitas simulações de valores amostrais para comprovar que a média de uma amostra aleatória pertence a uma distribuição normal. Quanto maior forem as amostras aleatórias, mais elas se aproximaram a uma normal."
   ]
  },
  {
   "cell_type": "markdown",
   "metadata": {},
   "source": [
    "#### Funções"
   ]
  },
  {
   "cell_type": "code",
   "execution_count": 27,
   "metadata": {
    "collapsed": false
   },
   "outputs": [],
   "source": [
    "def calcula_Media_Amostral(n,dados):\n",
    "    soma=0\n",
    "    for i in range(n):\n",
    "        soma+=np.random.choice(dados)\n",
    "    media=soma/n\n",
    "    return media\n",
    "\n",
    "def calcula_Media(lista):\n",
    "    soma=0\n",
    "    for i in lista:\n",
    "        soma+=i\n",
    "    media=soma/len(lista)\n",
    "    return media\n",
    "\n",
    "def calcula_Var(lista):\n",
    "    media=calcula_Media(lista)\n",
    "    soma=0\n",
    "    for i in lista:\n",
    "        soma+=(i-media)**2\n",
    "    var=soma/len(lista)\n",
    "    return var"
   ]
  },
  {
   "cell_type": "markdown",
   "metadata": {},
   "source": [
    "#### Simulação para n=2"
   ]
  },
  {
   "cell_type": "code",
   "execution_count": 28,
   "metadata": {
    "collapsed": false
   },
   "outputs": [
    {
     "data": {
      "image/png": "[encoded data removed]",
      "text/plain": [
       "<matplotlib.figure.Figure at 0x265aff4ce10>"
      ]
     },
     "metadata": {},
     "output_type": "display_data"
    },
    {
     "name": "stdout",
     "output_type": "stream",
     "text": [
      "A Media é:  6.01188062936 \n",
      "A variancia é: 12.2570673965\n"
     ]
    }
   ],
   "source": [
    "n=2\n",
    "MAmostrais=[]\n",
    "for i in range(10000):\n",
    "    MAmostrais.append(calcula_Media_Amostral(n,ValoresAleatorios))\n",
    "\n",
    "plt.hist(MAmostrais,normed=True)\n",
    "plt.show()\n",
    "print('A Media é: ',calcula_Media(MAmostrais),'\\nA variancia é:',calcula_Var(MAmostrais))"
   ]
  },
  {
   "cell_type": "markdown",
   "metadata": {},
   "source": [
    "### Item 3"
   ]
  },
  {
   "cell_type": "markdown",
   "metadata": {},
   "source": [
    "#### Simulação para n=4"
   ]
  },
  {
   "cell_type": "code",
   "execution_count": 29,
   "metadata": {
    "collapsed": false
   },
   "outputs": [
    {
     "data": {
      "image/png": "[encoded data removed]",
      "text/plain": [
       "<matplotlib.figure.Figure at 0x265afd9bb38>"
      ]
     },
     "metadata": {},
     "output_type": "display_data"
    },
    {
     "name": "stdout",
     "output_type": "stream",
     "text": [
      "A Media é:  5.94962499831 \n",
      "A Variancia é: 6.09443374716\n"
     ]
    }
   ],
   "source": [
    "n=4\n",
    "MAmostrais=[]\n",
    "for i in range(10000):\n",
    "    MAmostrais.append(calcula_Media_Amostral(n,ValoresAleatorios))\n",
    "\n",
    "plt.hist(MAmostrais,normed=True)\n",
    "plt.show()\n",
    "print('A Media é: ',calcula_Media(MAmostrais),'\\nA Variancia é:',calcula_Var(MAmostrais))"
   ]
  },
  {
   "cell_type": "markdown",
   "metadata": {},
   "source": [
    "#### Simulação para n=20"
   ]
  },
  {
   "cell_type": "code",
   "execution_count": 30,
   "metadata": {
    "collapsed": false
   },
   "outputs": [
    {
     "data": {
      "image/png": "[encoded data removed]",
      "text/plain": [
       "<matplotlib.figure.Figure at 0x265afc4ad30>"
      ]
     },
     "metadata": {},
     "output_type": "display_data"
    },
    {
     "name": "stdout",
     "output_type": "stream",
     "text": [
      "A Media é:  5.98648678651 \n",
      "A Variancia é: 1.2228564183\n"
     ]
    }
   ],
   "source": [
    "n=20\n",
    "MAmostrais=[]\n",
    "for i in range(10000):\n",
    "    MAmostrais.append(calcula_Media_Amostral(n,ValoresAleatorios))\n",
    "\n",
    "plt.hist(MAmostrais,normed=True)\n",
    "plt.show()\n",
    "print('A Media é: ',calcula_Media(MAmostrais),'\\nA Variancia é:',calcula_Var(MAmostrais))"
   ]
  },
  {
   "cell_type": "markdown",
   "metadata": {},
   "source": [
    "#### Simulação para n=50"
   ]
  },
  {
   "cell_type": "code",
   "execution_count": 59,
   "metadata": {
    "collapsed": false
   },
   "outputs": [
    {
     "data": {
      "image/png": "[encoded data removed]",
      "text/plain": [
       "<matplotlib.figure.Figure at 0x265afbfd7b8>"
      ]
     },
     "metadata": {},
     "output_type": "display_data"
    },
    {
     "name": "stdout",
     "output_type": "stream",
     "text": [
      "A Media é:  6.01015855514 \n",
      "A Variancia é: 0.496137493479\n"
     ]
    }
   ],
   "source": [
    "n=50\n",
    "MAmostrais=[]\n",
    "for i in range(10000):\n",
    "    MAmostrais.append(calcula_Media_Amostral(n,ValoresAleatorios))\n",
    "\n",
    "plt.hist(MAmostrais,normed=True)\n",
    "plt.show()\n",
    "print('A Media é: ',calcula_Media(MAmostrais),'\\nA Variancia é:',calcula_Var(MAmostrais))\n"
   ]
  },
  {
   "cell_type": "markdown",
   "metadata": {},
   "source": [
    "Segundo o teorema do limite central, além da média da população ser igual à esperança das médias das amostras, a variancia das médias das amostras é igual a variancia da população sobre o número de termos das amostras:\n"
   ]
  },
  {
   "cell_type": "code",
   "execution_count": 60,
   "metadata": {
    "collapsed": false
   },
   "outputs": [
    {
     "name": "stdout",
     "output_type": "stream",
     "text": [
      "A variancia calculada no item acima é 0.496137493479 e a variacia calculada pela afirmação acima é 0.499313225614\n"
     ]
    }
   ],
   "source": [
    "n = 50\n",
    "\n",
    "varAmostras = var/n\n",
    "\n",
    "print('A variancia calculada no item acima é',calcula_Var(MAmostrais),'e a variacia calculada pela afirmação acima é',varAmostras)"
   ]
  },
  {
   "cell_type": "markdown",
   "metadata": {},
   "source": [
    "** Como esperado, o resultado da media das medias amostrais se aproxima cada vez mais de uma distribuição normal com media igual a esperança da população total e variancia igual a variancia da população total sobre o número de termos '(var/n)', conforme n aumenta. **"
   ]
  },
  {
   "cell_type": "markdown",
   "metadata": {},
   "source": [
    "### Item 4"
   ]
  },
  {
   "cell_type": "markdown",
   "metadata": {},
   "source": [
    "Como pode ser observado nos itens acima, além da média de uma amostra aleatória pertencer a uma distribuição normal, a esperança dessa distribuição é igual à esperança da própria variável aleatória. \n",
    "\n",
    "As amostras são chamadas de amostras aleatórias pois seus termos são independentes e identicamente distribuídas a X. Para compravar isso, será feito, em seguida, uma comparação entre todos os primeiros e nonos elementos de cada amostra.\n",
    "\n",
    "Primeiro, serão guardados todos os primeiros e nonos valores de cada amostra:\n"
   ]
  },
  {
   "cell_type": "code",
   "execution_count": 37,
   "metadata": {
    "collapsed": false
   },
   "outputs": [],
   "source": [
    "Primeiros = []\n",
    "Nonos = []\n",
    "\n",
    "n = 50\n",
    "for i in range(10000):\n",
    "    lista = []\n",
    "\n",
    "    for j in range(n):\n",
    "        lista.append(np.random.choice(ValoresAleatorios))\n",
    "        \n",
    "    Primeiros.append(lista[0])\n",
    "    Nonos.append(lista[8])      \n"
   ]
  },
  {
   "cell_type": "markdown",
   "metadata": {},
   "source": [
    "Uma vez guardados, será feita um histograma para cada:"
   ]
  },
  {
   "cell_type": "markdown",
   "metadata": {},
   "source": [
    "#### Histograma dos primeiros valores:"
   ]
  },
  {
   "cell_type": "code",
   "execution_count": 42,
   "metadata": {
    "collapsed": false
   },
   "outputs": [
    {
     "data": {
      "text/plain": [
       "(array([  1.31071283e-01,   5.19454013e-02,   2.04343242e-02,\n",
       "          8.37829054e-03,   3.35131621e-03,   1.52332555e-03,\n",
       "          4.13474078e-04,   2.82903317e-04,   1.30570762e-04,\n",
       "          8.70471744e-05]),\n",
       " array([  1.00002182,   5.59523129,  10.19044076,  14.78565023,\n",
       "         19.3808597 ,  23.97606916,  28.57127863,  33.1664881 ,\n",
       "         37.76169757,  42.35690704,  46.95211651]),\n",
       " <a list of 10 Patch objects>)"
      ]
     },
     "execution_count": 42,
     "metadata": {},
     "output_type": "execute_result"
    },
    {
     "data": {
      "image/png": "[encoded data removed]",
      "text/plain": [
       "<matplotlib.figure.Figure at 0x265afccd518>"
      ]
     },
     "metadata": {},
     "output_type": "display_data"
    }
   ],
   "source": [
    "plt.hist(Primeiros, normed = 1)"
   ]
  },
  {
   "cell_type": "markdown",
   "metadata": {},
   "source": [
    "#### Histograma dos nonos valores:"
   ]
  },
  {
   "cell_type": "code",
   "execution_count": 43,
   "metadata": {
    "collapsed": false
   },
   "outputs": [
    {
     "data": {
      "text/plain": [
       "(array([  1.35393436e-01,   5.94474543e-02,   2.51794381e-02,\n",
       "          1.09110898e-02,   5.10782887e-03,   2.25415922e-03,\n",
       "          7.91353768e-04,   4.79608344e-04,   1.67862920e-04,\n",
       "          7.19412516e-05]),\n",
       " array([  1.00079686,   5.17086609,   9.34093532,  13.51100455,\n",
       "         17.68107379,  21.85114302,  26.02121225,  30.19128148,\n",
       "         34.36135072,  38.53141995,  42.70148918]),\n",
       " <a list of 10 Patch objects>)"
      ]
     },
     "execution_count": 43,
     "metadata": {},
     "output_type": "execute_result"
    },
    {
     "data": {
      "image/png": "[encoded data removed]",
      "text/plain": [
       "<matplotlib.figure.Figure at 0x265b10ac390>"
      ]
     },
     "metadata": {},
     "output_type": "display_data"
    }
   ],
   "source": [
    "plt.hist(Nonos, normed = 1)"
   ]
  },
  {
   "cell_type": "markdown",
   "metadata": {},
   "source": [
    "Como pode ser observado, as distribuições da variável escolhida são iguais às distribuições dos primeiros e nonos valores, ou seja, eles são identicamente distribuídas a X."
   ]
  },
  {
   "cell_type": "markdown",
   "metadata": {},
   "source": [
    "Para demonstrar que os valores das amostras são independentes, será calculada a correlação entre os seus valores:\n"
   ]
  },
  {
   "cell_type": "code",
   "execution_count": 47,
   "metadata": {
    "collapsed": false
   },
   "outputs": [
    {
     "name": "stdout",
     "output_type": "stream",
     "text": [
      "A correlação entre os primeiros e nonos elementos é: 0.00143290737253\n"
     ]
    }
   ],
   "source": [
    "\n",
    "mediaprimeiros = calcula_Media(Primeiros)\n",
    "medianonos = calcula_Media(Nonos)\n",
    "\n",
    "soma = 0\n",
    "for i in range(len(Primeiros)):\n",
    "    soma += (Primeiros[i] - mediaprimeiros)*(Nonos[i] - medianonos)\n",
    "    \n",
    "Covariancia = soma/len(Primeiros)\n",
    "\n",
    "Correlacao = Covariancia/((calcula_Var(Primeiros)**(1/2))*calcula_Var(Primeiros)**(1/2))\n",
    "print('A correlação entre os primeiros e nonos elementos é:',Correlacao)\n",
    "    "
   ]
  },
  {
   "cell_type": "markdown",
   "metadata": {},
   "source": [
    "Como a correlação entre esses valores está muito próxima de zero, conclui-se que os termos das amostras são independentes."
   ]
  }
 ],
 "metadata": {
  "kernelspec": {
   "display_name": "Python 3",
   "language": "python",
   "name": "python3"
  },
  "language_info": {
   "codemirror_mode": {
    "name": "ipython",
    "version": 3
   },
   "file_extension": ".py",
   "mimetype": "text/x-python",
   "name": "python",
   "nbconvert_exporter": "python",
   "pygments_lexer": "ipython3",
   "version": "3.5.2"
  }
 },
 "nbformat": 4,
 "nbformat_minor": 0
}
