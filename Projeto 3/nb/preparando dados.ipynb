{
 "cells": [
  {
   "cell_type": "code",
   "execution_count": 1,
   "metadata": {
    "collapsed": true
   },
   "outputs": [],
   "source": [
    "%matplotlib inline\n",
    "import pandas as pd\n",
    "import matplotlib.pyplot as plt\n",
    "import numpy as np\n",
    "import os"
   ]
  },
  {
   "cell_type": "code",
   "execution_count": 2,
   "metadata": {
    "collapsed": false
   },
   "outputs": [
    {
     "name": "stdout",
     "output_type": "stream",
     "text": [
      "Esperamos trabalhar no diretório\n",
      "/Users/Lucanoto/Desktop/projeto3/nb\n"
     ]
    }
   ],
   "source": [
    "print('Esperamos trabalhar no diretório')\n",
    "print(os.getcwd())"
   ]
  },
  {
   "cell_type": "code",
   "execution_count": 3,
   "metadata": {
    "collapsed": false
   },
   "outputs": [
    {
     "name": "stdout",
     "output_type": "stream",
     "text": [
      "Hora do show!\n"
     ]
    }
   ],
   "source": [
    "mortalidade = pd.read_csv(\"../Datasets/mortality.csv\", sep=\";\",encoding = \"ISO-8859-1\") # Abrindo o dataset da mortalidade infantil\n",
    "consumo_comida = pd.read_csv(\"../Datasets/food_consumption.csv\", sep=\";\",encoding = \"ISO-8859-1\") # Abrindo o dataset do consumo calórico médio\n",
    "pobreza = pd.read_csv(\"../Datasets/poverty.csv\", sep=\";\",encoding = \"ISO-8859-1\") # Abrindo o dataset da qntd de pessoas que recebem menos que 2 dólares diários\n",
    "print('Hora do show!')"
   ]
  },
  {
   "cell_type": "code",
   "execution_count": 4,
   "metadata": {
    "collapsed": false,
    "scrolled": false
   },
   "outputs": [],
   "source": [
    "mortalidade = mortalidade.iloc[0:276,[0,203]]"
   ]
  },
  {
   "cell_type": "code",
   "execution_count": 5,
   "metadata": {
    "collapsed": false
   },
   "outputs": [],
   "source": [
    "consumo_comida =consumo_comida.iloc[0:276,[42]]"
   ]
  },
  {
   "cell_type": "code",
   "execution_count": 6,
   "metadata": {
    "collapsed": false
   },
   "outputs": [],
   "source": [
    "pobreza =pobreza.iloc[0:276,[25]]"
   ]
  },
  {
   "cell_type": "code",
   "execution_count": 7,
   "metadata": {
    "collapsed": false
   },
   "outputs": [],
   "source": [
    "final = mortalidade.join(consumo_comida, lsuffix='_mortalidade')\n",
    "final = final.join(pobreza,lsuffix='_calorias', rsuffix='_pobreza')"
   ]
  },
  {
   "cell_type": "code",
   "execution_count": 8,
   "metadata": {
    "collapsed": false,
    "scrolled": true
   },
   "outputs": [],
   "source": [
    "final = final.dropna()\n",
    "final.columns=['PAIS','MORTALIDADE','CALORIES_INTAKE','POBREZA']"
   ]
  },
  {
   "cell_type": "code",
   "execution_count": 9,
   "metadata": {
    "collapsed": false
   },
   "outputs": [
    {
     "data": {
      "text/html": [
       "<div>\n",
       "<table border=\"1\" class=\"dataframe\">\n",
       "  <thead>\n",
       "    <tr style=\"text-align: right;\">\n",
       "      <th></th>\n",
       "      <th>PAIS</th>\n",
       "      <th>MORTALIDADE</th>\n",
       "      <th>CALORIES_INTAKE</th>\n",
       "      <th>POBREZA</th>\n",
       "    </tr>\n",
       "  </thead>\n",
       "  <tbody>\n",
       "    <tr>\n",
       "      <th>3</th>\n",
       "      <td>Albania</td>\n",
       "      <td>23,6</td>\n",
       "      <td>2864,93</td>\n",
       "      <td>8,76</td>\n",
       "    </tr>\n",
       "    <tr>\n",
       "      <th>10</th>\n",
       "      <td>Argentina</td>\n",
       "      <td>19,2</td>\n",
       "      <td>2965,9</td>\n",
       "      <td>23,05</td>\n",
       "    </tr>\n",
       "    <tr>\n",
       "      <th>11</th>\n",
       "      <td>Armenia</td>\n",
       "      <td>27,2</td>\n",
       "      <td>2150,57</td>\n",
       "      <td>46,74</td>\n",
       "    </tr>\n",
       "    <tr>\n",
       "      <th>20</th>\n",
       "      <td>Belarus</td>\n",
       "      <td>11,8</td>\n",
       "      <td>2968,65</td>\n",
       "      <td>2,5</td>\n",
       "    </tr>\n",
       "    <tr>\n",
       "      <th>26</th>\n",
       "      <td>Bolivia</td>\n",
       "      <td>72,2</td>\n",
       "      <td>2173,19</td>\n",
       "      <td>32,91</td>\n",
       "    </tr>\n",
       "  </tbody>\n",
       "</table>\n",
       "</div>"
      ],
      "text/plain": [
       "         PAIS MORTALIDADE CALORIES_INTAKE POBREZA\n",
       "3     Albania        23,6         2864,93    8,76\n",
       "10  Argentina        19,2          2965,9   23,05\n",
       "11    Armenia        27,2         2150,57   46,74\n",
       "20    Belarus        11,8         2968,65     2,5\n",
       "26    Bolivia        72,2         2173,19   32,91"
      ]
     },
     "execution_count": 9,
     "metadata": {},
     "output_type": "execute_result"
    }
   ],
   "source": [
    "final.head()"
   ]
  },
  {
   "cell_type": "code",
   "execution_count": 12,
   "metadata": {
    "collapsed": true
   },
   "outputs": [],
   "source": [
    "final.to_csv('../Datasets/dados_preparados.csv')"
   ]
  },
  {
   "cell_type": "code",
   "execution_count": null,
   "metadata": {
    "collapsed": true
   },
   "outputs": [],
   "source": []
  }
 ],
 "metadata": {
  "kernelspec": {
   "display_name": "Python 3",
   "language": "python",
   "name": "python3"
  },
  "language_info": {
   "codemirror_mode": {
    "name": "ipython",
    "version": 3
   },
   "file_extension": ".py",
   "mimetype": "text/x-python",
   "name": "python",
   "nbconvert_exporter": "python",
   "pygments_lexer": "ipython3",
   "version": "3.5.2"
  }
 },
 "nbformat": 4,
 "nbformat_minor": 0
}
