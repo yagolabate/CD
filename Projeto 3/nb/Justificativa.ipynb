{
 "cells": [
  {
   "cell_type": "markdown",
   "metadata": {
    "collapsed": true
   },
   "source": [
    "# Justificativa das variáveis escolhidas"
   ]
  },
  {
   "cell_type": "markdown",
   "metadata": {},
   "source": [
    "## Consumo de caloria:\n",
    "   A variável \"Consumo de caloria\" foi escolhida pelo fato de estar claramente associada com a saúde de uma pessoa. A falta de nutrientes faz com que a pessoa fique mais vulnerável à diversos tipos de doenças, devido ao enfraquecimento do sistema imunológico. Também resulta na incapacidade de realizar tarefas simples, levando a pessoa a um quadro de dificuldade mental. Tais consequências são ainda piores em crianças. Segundo a Organização Mundial de Saúde (OMS), a desnutrição contribui com mais de um terço das mortes de crianças no mundo."
   ]
  },
  {
   "cell_type": "markdown",
   "metadata": {},
   "source": [
    "## Pobreza:\n",
    "   A variável \"Probreza\" foi escolhida pelo fato de estar vinculada a diversos fatores prejudicias à saúde, tais como desnutrição e falta de saneamento básico. Algumas das consequências da falta de nutrientes já foram mencionadas acima. Já a falta de saneamento básico leva a fortes contaminações por parte do indivíduo quando, por exemplo, ingere água contaminada. Além disso, são as crianças que tem maior susceptibilidade às doenças infecciosas."
   ]
  },
  {
   "cell_type": "code",
   "execution_count": null,
   "metadata": {
    "collapsed": true
   },
   "outputs": [],
   "source": []
  }
 ],
 "metadata": {
  "kernelspec": {
   "display_name": "Python 3",
   "language": "python",
   "name": "python3"
  },
  "language_info": {
   "codemirror_mode": {
    "name": "ipython",
    "version": 3
   },
   "file_extension": ".py",
   "mimetype": "text/x-python",
   "name": "python",
   "nbconvert_exporter": "python",
   "pygments_lexer": "ipython3",
   "version": "3.5.2"
  }
 },
 "nbformat": 4,
 "nbformat_minor": 0
}
