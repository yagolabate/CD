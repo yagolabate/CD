{
 "cells": [
  {
   "cell_type": "markdown",
   "metadata": {
    "collapsed": true
   },
   "source": [
    "# Justificativa das variáveis escolhidas"
   ]
  },
  {
   "cell_type": "markdown",
   "metadata": {},
   "source": [
    "## Ano: 2002\n",
    "\n",
    "\n",
    "**O Ano de 2002 foi escolhido pois após filtrarmos todos os valores indesejados (NaN) era o que tinha um maior número de países com dados sobre as 3 variáveis escolhidas:**"
   ]
  },
  {
   "cell_type": "markdown",
   "metadata": {},
   "source": [
    "## Variável resposta :Mortalidade Infantil de 0 a 5 anos\n",
    "   Escolhemos Mortalidade Infantl como nossa variável resposta pois pareceia ser interessante e facilmente relacionada com outras variáveis apresentadas no banco de dados."
   ]
  },
  {
   "cell_type": "markdown",
   "metadata": {},
   "source": [
    "## Consumo de caloria:\n",
    "   Além de apresentar uma aparente correlação com a mortalidade infantil, a variável \"Consumo de calorias\" foi escolhida pelo fato de estar claramente associada com a saúde de uma pessoa. A falta de nutrientes faz com que a pessoa fique mais vulnerável à diversos tipos de doenças, devido ao enfraquecimento do sistema imunológico. Também resulta na incapacidade de realizar tarefas simples, levando a pessoa a um quadro de dificuldade mental. Tais consequências são ainda piores em crianças. Segundo a Organização Mundial de Saúde (OMS), a desnutrição contribui com mais de um terço das mortes de crianças no mundo. ë interessante notar também que a a correlação entre as variáveis parece ser negativa."
   ]
  },
  {
   "cell_type": "markdown",
   "metadata": {
    "collapsed": true
   },
   "source": [
    "<img src=\"../img/calorias.png\"/, width=500, height=500 style=\"float: center\">"
   ]
  },
  {
   "cell_type": "markdown",
   "metadata": {},
   "source": [
    "## Pobreza:\n",
    "   A variável \"Pobreza\" também foi escolhida pelo fato apresentar uma correlação com a mortalidade infantil e por estar vinculada a diversos fatores prejudicias à saúde, tais como desnutrição e falta de saneamento básico. Algumas das consequências da falta de nutrientes já foram mencionadas acima. Já a falta de saneamento básico leva a fortes contaminações por parte do indivíduo quando, por exemplo, ingere água contaminada. Além disso, são as crianças que tem maior susceptibilidade às doenças infecciosas. O interessante é que, ao contrário da correlação entre o consumo de calorias e a mortalidade infantil, a correlação entre esta e a pobreza parece ser positiva."
   ]
  },
  {
   "cell_type": "markdown",
   "metadata": {
    "collapsed": true
   },
   "source": [
    "<img src=\"../img/pobreza.png\"/, width=500, height=500 style=\"float: center\">"
   ]
  }
 ],
 "metadata": {
  "kernelspec": {
   "display_name": "Python 3",
   "language": "python",
   "name": "python3"
  },
  "language_info": {
   "codemirror_mode": {
    "name": "ipython",
    "version": 3
   },
   "file_extension": ".py",
   "mimetype": "text/x-python",
   "name": "python",
   "nbconvert_exporter": "python",
   "pygments_lexer": "ipython3",
   "version": "3.5.1"
  }
 },
 "nbformat": 4,
 "nbformat_minor": 0
}
